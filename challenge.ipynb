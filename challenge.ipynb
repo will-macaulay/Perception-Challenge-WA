{
 "cells": [
  {
   "cell_type": "code",
   "execution_count": 263,
   "id": "733b3eda",
   "metadata": {},
   "outputs": [],
   "source": [
    "import numpy as np\n",
    "import pandas as pd\n",
    "import matplotlib.pyplot as plt\n",
    "import matplotlib.animation as animation\n",
    "from IPython.display import HTML\n",
    "import math"
   ]
  },
  {
   "cell_type": "code",
   "execution_count": 146,
   "id": "86293528",
   "metadata": {},
   "outputs": [],
   "source": [
    "bbox_df = pd.read_csv('files/bbox_light.csv')\n",
    "\n",
    "pd.set_option(\"display.max_rows\", None)\n",
    "pd.set_option(\"display.max_columns\", None)\n",
    "\n",
    "# dropping rows with all 0\n",
    "bbox_df = bbox_df[(bbox_df.iloc[:, 1:] == 0).all(axis=1) == False].dropna()\n",
    "\n",
    "# re-indexing \"frame\" column and indices\n",
    "#bbox_df.iloc[:, 0] = np.arange(0, bbox_df.shape[0])\n",
    "bbox_df = bbox_df.set_index(np.arange(0, bbox_df.shape[0]))"
   ]
  },
  {
   "cell_type": "code",
   "execution_count": 348,
   "id": "4e3f34e7",
   "metadata": {},
   "outputs": [],
   "source": [
    "# 2d rotation matrix, used in rotation pipeline suggested by GPT\n",
    "def R(theta):\n",
    "    return [[math.cos(theta), -math.sin(theta)], \n",
    "            [math.sin(theta), math.cos(theta)]]\n",
    "\n",
    "# wrapping angle to [-pi, pi)\n",
    "def wrap(theta):\n",
    "    return np.arctan2(np.sin(theta), np.cos(theta))"
   ]
  },
  {
   "cell_type": "code",
   "execution_count": null,
   "id": "5783f07e",
   "metadata": {},
   "outputs": [],
   "source": [
    "tl_indices, x_pos, y_pos, forward_motion = [], [], [], []\n",
    "stable_index, drift_0 = 0, 0\n",
    "prev_x = prev_y = prev_drift = prev_T = None\n",
    "R_acc = np.eye(2)\n",
    "T = np.zeros((2, 1))\n",
    "T_x, T_y = [0.0], [0.0]\n",
    "\n",
    "for frame in bbox_df['frame']:\n",
    "\n",
    "    # obtain horizontal and vertical position values (in pixels) of traffic light\n",
    "    \n",
    "    x_min, y_min, x_max, y_max = bbox_df.iloc[stable_index, 1:]\n",
    "    u = int((x_max + x_min) / 2)\n",
    "    v = int((y_max + y_min) / 2)\n",
    "    tl_indices.append([u, v])\n",
    "\n",
    "    # create formatted depth number for npz file name\n",
    "    depth_num_formatted = ''\n",
    "    counter = 100000\n",
    "\n",
    "    while counter > frame and counter >= 10:\n",
    "        depth_num_formatted += '0'\n",
    "        counter /= 10\n",
    "    \n",
    "    depth_num_formatted += str(frame)\n",
    "    \n",
    "    # find relative position of traffic light using depth map\n",
    "    depth_frame = np.load(f'files/xyz/depth{depth_num_formatted}.npz')['xyz']\n",
    "    x, y, z = depth_frame[v, u][0:3]\n",
    "    if np.isfinite(np.array([x, y, z])).all():\n",
    "        x_pos.append(x)\n",
    "        y_pos.append(y)\n",
    "    else:\n",
    "        continue\n",
    "\n",
    "    # --------------------- minimal rotation pipeline ---------------------\n",
    "    curr_drift = math.atan2(y, x)\n",
    "\n",
    "    # initial values\n",
    "    if stable_index == 0:\n",
    "\n",
    "        R0 = R(math.pi/2 - curr_drift)\n",
    "\n",
    "        p0 = np.array([[x],[y]], float)\n",
    "        T  = -np.dot(R0, p0) \n",
    "        R_acc = np.eye(2, dtype=float)\n",
    "\n",
    "        prev_x, prev_y, prev_drift = x, y, curr_drift\n",
    "        T_x, T_y = [float(T[0,0])], [float(T[1,0])]\n",
    "\n",
    "        stable_index += 1\n",
    "        continue\n",
    "\n",
    "    # first calculating change in orientation between frames\n",
    "\n",
    "    # calculating drift change\n",
    "    drift_change_base = wrap(curr_drift - prev_drift)\n",
    "    drift_change = -(drift_change_base)\n",
    "\n",
    "\n",
    "    # stabilizing forward motion (GPT)\n",
    "    s_rot = prev_x - (np.dot(R(drift_change), [[x], [y]]))[0][0]\n",
    "    s_naive = max(0, prev_x - x)\n",
    "\n",
    "    r = math.sqrt(x**2 + y**2)\n",
    "    prev_r = math.sqrt(prev_x**2 + prev_y**2)\n",
    "    s_rad = max(0, prev_r - r)\n",
    "\n",
    "    s = np.median([s_rot, s_naive, s_rad])\n",
    "\n",
    "    forward_motion.append(s)\n",
    "\n",
    "    # then accounting for drift from actual rotation\n",
    "    T += np.dot(R_acc, np.array([[0.0], [s]], float))\n",
    "    R_acc = np.dot(R_acc, R(drift_change))\n",
    "\n",
    "    # re-scaled and re-positioned x and y since at somepoint their scale and rotation got messed up\n",
    "    T_x.append(T[0,0]/4.4)\n",
    "    T_y.append(T[1,0]/4.4 + 9)\n",
    "\n",
    "    prev_x, prev_y, prev_drift = x, y, curr_drift\n",
    "    stable_index += 1"
   ]
  },
  {
   "cell_type": "code",
   "execution_count": 456,
   "id": "4ca95dc2",
   "metadata": {},
   "outputs": [
    {
     "data": {
      "image/png": "[encoded data removed]",
      "text/plain": [
       "<Figure size 640x480 with 1 Axes>"
      ]
     },
     "metadata": {},
     "output_type": "display_data"
    }
   ],
   "source": [
    "# rotated points\n",
    "points = np.array([T_x, T_y])\n",
    "rotated_points = R(np.radians(-6)) @ points\n",
    "\n",
    "x_rot, y_rot = rotated_points[0, :], rotated_points[1, :]\n",
    "\n",
    "fig, ax = plt.subplots()\n",
    "ax.grid(True, which='both', linestyle='--', linewidth=0.5)\n",
    "ax.axvline(x=0, color='k', linewidth=0.5)\n",
    "plt.plot(x_rot, y_rot, linewidth=3.0)\n",
    "plt.xlim(-10, 10)\n",
    "plt.ylim(0, 15)\n",
    "plt.show()"
   ]
  }
 ],
 "metadata": {
  "kernelspec": {
   "display_name": "base",
   "language": "python",
   "name": "python3"
  },
  "language_info": {
   "codemirror_mode": {
    "name": "ipython",
    "version": 3
   },
   "file_extension": ".py",
   "mimetype": "text/x-python",
   "name": "python",
   "nbconvert_exporter": "python",
   "pygments_lexer": "ipython3",
   "version": "3.13.5"
  }
 },
 "nbformat": 4,
 "nbformat_minor": 5
}
