{
 "cells": [
  {
   "cell_type": "code",
   "execution_count": 23,
   "id": "733b3eda",
   "metadata": {},
   "outputs": [],
   "source": [
    "import numpy as np\n",
    "import pandas as pd\n",
    "import matplotlib.pyplot as plt\n",
    "import matplotlib.animation as animation\n",
    "from IPython.display import HTML\n",
    "import math"
   ]
  },
  {
   "cell_type": "code",
   "execution_count": 24,
   "id": "86293528",
   "metadata": {},
   "outputs": [],
   "source": [
    "bbox_df = pd.read_csv('files/bbox_light.csv')\n",
    "\n",
    "pd.set_option(\"display.max_rows\", None)\n",
    "pd.set_option(\"display.max_columns\", None)\n",
    "\n",
    "# dropping rows with all 0\n",
    "bbox_df = bbox_df[(bbox_df.iloc[:, 1:] == 0).all(axis=1) == False].dropna()\n",
    "\n",
    "# re-indexing \"frame\" column and indices\n",
    "#bbox_df.iloc[:, 0] = np.arange(0, bbox_df.shape[0])\n",
    "bbox_df = bbox_df.set_index(np.arange(0, bbox_df.shape[0]))"
   ]
  },
  {
   "cell_type": "code",
   "execution_count": 25,
   "id": "4e3f34e7",
   "metadata": {},
   "outputs": [],
   "source": [
    "# 2d rotation matrix, used in rotation pipeline suggested by GPT\n",
    "def R(theta):\n",
    "    return [[math.cos(theta), -math.sin(theta)], \n",
    "            [math.sin(theta), math.cos(theta)]]\n",
    "\n",
    "# wrapping angle to [-pi, pi)\n",
    "def wrap(theta):\n",
    "    return np.arctan2(np.sin(theta), np.cos(theta))"
   ]
  },
  {
   "cell_type": "code",
   "execution_count": 26,
   "id": "5783f07e",
   "metadata": {},
   "outputs": [],
   "source": [
    "tl_indices, x_pos, y_pos, forward_motion = [], [], [], []\n",
    "stable_index, drift_0 = 0, 0\n",
    "prev_x = prev_y = prev_drift = prev_T = None\n",
    "R_acc = np.eye(2)\n",
    "T = np.zeros((2, 1))\n",
    "T_x, T_y = [0.0], [0.0]\n",
    "\n",
    "for frame in bbox_df['frame']:\n",
    "\n",
    "    # obtain horizontal and vertical position values (in pixels) of traffic light\n",
    "    \n",
    "    x_min, y_min, x_max, y_max = bbox_df.iloc[stable_index, 1:]\n",
    "    u = int((x_max + x_min) / 2)\n",
    "    v = int((y_max + y_min) / 2)\n",
    "    tl_indices.append([u, v])\n",
    "\n",
    "    # create formatted depth number for npz file name\n",
    "    depth_num_formatted = ''\n",
    "    counter = 100000\n",
    "\n",
    "    while counter > frame and counter >= 10:\n",
    "        depth_num_formatted += '0'\n",
    "        counter /= 10\n",
    "    \n",
    "    depth_num_formatted += str(frame)\n",
    "    \n",
    "    # find relative position of traffic light using depth map\n",
    "    depth_frame = np.load(f'files/xyz/depth{depth_num_formatted}.npz')['xyz']\n",
    "    x, y, z = depth_frame[v, u][0:3]\n",
    "    if np.isfinite(np.array([x, y, z])).all():\n",
    "        x_pos.append(x)\n",
    "        y_pos.append(y)\n",
    "    else:\n",
    "        continue\n",
    "\n",
    "    # --------------------- minimal rotation pipeline ---------------------\n",
    "    curr_drift = math.atan2(y, x)\n",
    "\n",
    "    # initial values\n",
    "    if stable_index == 0:\n",
    "\n",
    "        R0 = R(math.pi/2 - curr_drift)\n",
    "\n",
    "        p0 = np.array([[x],[y]], float)\n",
    "        T  = -np.dot(R0, p0) \n",
    "        R_acc = np.eye(2, dtype=float)\n",
    "\n",
    "        prev_x, prev_y, prev_drift = x, y, curr_drift\n",
    "        T_x, T_y = [float(T[0,0])], [float(T[1,0])]\n",
    "\n",
    "        stable_index += 1\n",
    "        continue\n",
    "\n",
    "    # first calculating change in orientation between frames\n",
    "\n",
    "    # calculating drift (rotation change from previous frame)\n",
    "    drift_change_base = wrap(curr_drift - prev_drift)\n",
    "    drift_change = -(drift_change_base)\n",
    "\n",
    "\n",
    "    # robust forward motion estimation (GPT)\n",
    "    s_rot = prev_x - (np.dot(R(drift_change), [[x], [y]]))[0][0]\n",
    "    s_naive = max(0, prev_x - x)\n",
    "\n",
    "    r = math.sqrt(x**2 + y**2)\n",
    "    prev_r = math.sqrt(prev_x**2 + prev_y**2)\n",
    "    s_rad = max(0, prev_r - r)\n",
    "\n",
    "    s = np.median([s_rot, s_naive, s_rad])\n",
    "\n",
    "    forward_motion.append(s)\n",
    "\n",
<<<<<<< HEAD
    "    # rotating forward motion by accumulated rotation\n",
    "    T += np.dot(R_acc, np.array([[0.0], [s]], float))\n",
    "    R_acc = np.dot(R_acc, R(drift_change))\n",
    "\n",
    "    # re-scaled and re-positioned x and y since at somepoint their scale and rotation got messed up\n",
    "    # shape is pretty much identical otherwise so idk\n",
    "    T_x.append(T[0,0]/8.8)\n",
=======
    "    # rotating forward motion by accumulated rotation matrix\n",
    "    T += np.dot(R_acc, np.array([[0.0], [s]], float))\n",
    "    R_acc = np.dot(R_acc, R(drift_change))\n",
    "\n",
    "    # re-scaled and re-positioned x and y since at some point their scale and rotation got messed up\n",
    "    T_x.append(T[0,0]/4.4)\n",
>>>>>>> d8f03f86b0d90a62322140e3485af31dbc416f9d
    "    T_y.append(T[1,0]/4.4 + 9)\n",
    "\n",
    "    prev_x, prev_y, prev_drift = x, y, curr_drift\n",
    "    stable_index += 1"
   ]
  },
  {
   "cell_type": "code",
   "execution_count": 29,
   "id": "4ca95dc2",
   "metadata": {},
   "outputs": [
    {
     "data": {
      "image/png": "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",
      "text/plain": [
       "<Figure size 640x480 with 1 Axes>"
      ]
     },
     "metadata": {},
     "output_type": "display_data"
    }
   ],
   "source": [
    "# rotated points\n",
    "points = np.array([T_x, T_y])\n",
    "rotated_points = R(np.radians(-3)) @ points\n",
    "\n",
    "x_rot, y_rot = rotated_points[0, :], rotated_points[1, :]\n",
    "\n",
    "fig, ax = plt.subplots()\n",
    "ax.grid(True, which='both', linestyle='--', linewidth=0.5)\n",
    "ax.axvline(x=0, color='k', linewidth=0.5)\n",
    "plt.plot(x_rot, y_rot, linewidth=3.0)\n",
    "plt.xlim(-10, 10)\n",
    "plt.ylim(0, 15)\n",
    "plt.show()"
   ]
  }
 ],
 "metadata": {
  "kernelspec": {
   "display_name": "base",
   "language": "python",
   "name": "python3"
  },
  "language_info": {
   "codemirror_mode": {
    "name": "ipython",
    "version": 3
   },
   "file_extension": ".py",
   "mimetype": "text/x-python",
   "name": "python",
   "nbconvert_exporter": "python",
   "pygments_lexer": "ipython3",
   "version": "3.13.5"
  }
 },
 "nbformat": 4,
 "nbformat_minor": 5
}
